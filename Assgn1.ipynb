{
 "cells": [
  {
   "cell_type": "markdown",
   "id": "a7c6deb8",
   "metadata": {},
   "source": [
    "Q1: Questions on Basic NumPy Array"
   ]
  },
  {
   "cell_type": "markdown",
   "id": "190c37a9",
   "metadata": {},
   "source": [
    "(a) Reverse the NumPy array: arr = np.array([1, 2, 3, 6, 4, 5])"
   ]
  },
  {
   "cell_type": "code",
   "execution_count": 2,
   "id": "28b32cbb",
   "metadata": {},
   "outputs": [
    {
     "name": "stdout",
     "output_type": "stream",
     "text": [
      "[5 4 6 3 2 1]\n"
     ]
    }
   ],
   "source": [
    "import numpy as np\n",
    "arr = np.array([1, 2, 3, 6, 4, 5])\n",
    "print(arr[::-1])"
   ]
  },
  {
   "cell_type": "markdown",
   "id": "95391bf2",
   "metadata": {},
   "source": [
    "(b) Flatten the NumPy arr: array1 = np.array([[1, 2, 3], [2, 4, 5], [1, 2, 3]]) using any two\n",
    "NumPy in-built methods"
   ]
  },
  {
   "cell_type": "code",
   "execution_count": 2,
   "id": "ca4178a4",
   "metadata": {},
   "outputs": [
    {
     "name": "stdout",
     "output_type": "stream",
     "text": [
      "[1 2 3 2 4 5 1 2 3]\n",
      "[1 2 3 2 4 5 1 2 3]\n"
     ]
    }
   ],
   "source": [
    "array1 = np.array([[1, 2, 3], [2, 4, 5], [1, 2, 3]])\n",
    "flat1 = array1.flatten()\n",
    "flat2 = array1.ravel()\n",
    "print(flat1)\n",
    "print(flat2)"
   ]
  },
  {
   "cell_type": "markdown",
   "id": "6557cbe4",
   "metadata": {},
   "source": [
    "(c) Compare the following numpy arrays:\n",
    "arr1 = np.array([[1, 2], [3, 4]])\n",
    "arr2 = np.array([[1, 2], [3, 4]])"
   ]
  },
  {
   "cell_type": "code",
   "execution_count": 3,
   "id": "0ab83c4f",
   "metadata": {},
   "outputs": [
    {
     "name": "stdout",
     "output_type": "stream",
     "text": [
      "True\n"
     ]
    }
   ],
   "source": [
    "arr1 = np.array([[1, 2], [3, 4]])\n",
    "arr2 = np.array([[1, 2], [3, 4]])\n",
    "print(np.array_equal(arr1, arr2))"
   ]
  },
  {
   "cell_type": "markdown",
   "id": "4d09f01f",
   "metadata": {},
   "source": [
    "(d) Find the most frequent value and their indice(s) in the following arrays:"
   ]
  },
  {
   "cell_type": "markdown",
   "id": "81f46563",
   "metadata": {},
   "source": [
    "i. x = np.array([1,2,3,4,5,1,2,1,1,1])"
   ]
  },
  {
   "cell_type": "code",
   "execution_count": 5,
   "id": "0f4d8e0a",
   "metadata": {},
   "outputs": [
    {
     "name": "stdout",
     "output_type": "stream",
     "text": [
      "element = 1, indeces = (array([0, 5, 7, 8, 9], dtype=int64),)\n"
     ]
    }
   ],
   "source": [
    "x = np.array([1,2,3,4,5,1,2,1,1,1])\n",
    "val = np.bincount(x).argmax()\n",
    "print(f\"element = {val}, indeces = {np.where(x == val)}\")"
   ]
  },
  {
   "cell_type": "markdown",
   "id": "046b5be8",
   "metadata": {},
   "source": [
    "ii. y = np.array([1, 1, 1, 2, 3, 4, 2, 4, 3, 3, ])"
   ]
  },
  {
   "cell_type": "code",
   "execution_count": 6,
   "id": "d758c42b",
   "metadata": {},
   "outputs": [
    {
     "name": "stdout",
     "output_type": "stream",
     "text": [
      "element = 1, indeces = (array([0, 1, 2], dtype=int64),)\n"
     ]
    }
   ],
   "source": [
    "y = np.array([1, 1, 1, 2, 3, 4, 2, 4, 3, 3])\n",
    "val = np.bincount(y).argmax()\n",
    "print(f\"element = {val}, indeces = {np.where(y== val)}\")"
   ]
  },
  {
   "cell_type": "markdown",
   "id": "be0d706a",
   "metadata": {},
   "source": [
    "(e) For the array gfg = np.matrix('[4, 1, 9; 12, 3, 1; 4, 5, 6]'), find"
   ]
  },
  {
   "cell_type": "markdown",
   "id": "4aab6e96",
   "metadata": {},
   "source": [
    "i. Sum of all elements"
   ]
  },
  {
   "cell_type": "code",
   "execution_count": 6,
   "id": "d70bf918",
   "metadata": {},
   "outputs": [
    {
     "name": "stdout",
     "output_type": "stream",
     "text": [
      "45\n"
     ]
    }
   ],
   "source": [
    "gfg = np.matrix('[4, 1, 9; 12, 3, 1; 4, 5, 6]')\n",
    "print(gfg.sum())"
   ]
  },
  {
   "cell_type": "markdown",
   "id": "e3ddf6d3",
   "metadata": {},
   "source": [
    "ii. Sum of all elements row-wise"
   ]
  },
  {
   "cell_type": "code",
   "execution_count": 7,
   "id": "5f810ef6",
   "metadata": {},
   "outputs": [
    {
     "name": "stdout",
     "output_type": "stream",
     "text": [
      "[[14]\n",
      " [16]\n",
      " [15]]\n"
     ]
    }
   ],
   "source": [
    "print(gfg.sum(axis=1))"
   ]
  },
  {
   "cell_type": "markdown",
   "id": "1ced996d",
   "metadata": {},
   "source": [
    "iii. Sum of all elements column-wise"
   ]
  },
  {
   "cell_type": "code",
   "execution_count": 8,
   "id": "4af9b455",
   "metadata": {},
   "outputs": [
    {
     "name": "stdout",
     "output_type": "stream",
     "text": [
      "[[20  9 16]]\n"
     ]
    }
   ],
   "source": [
    "print(gfg.sum(axis=0))"
   ]
  },
  {
   "cell_type": "markdown",
   "id": "4be8b68f",
   "metadata": {},
   "source": [
    "(f) For the matrix: n_array = np.array([[55, 25, 15],[30, 44, 2],[11, 45, 77]]), find"
   ]
  },
  {
   "cell_type": "markdown",
   "id": "16836221",
   "metadata": {},
   "source": [
    "i. Sum of diagonal elements"
   ]
  },
  {
   "cell_type": "code",
   "execution_count": 9,
   "id": "5f8aa75f",
   "metadata": {},
   "outputs": [
    {
     "name": "stdout",
     "output_type": "stream",
     "text": [
      "176\n"
     ]
    }
   ],
   "source": [
    "n_array = np.array([[55, 25, 15],[30, 44, 2],[11, 45, 77]])\n",
    "print(np.trace(n_array))"
   ]
  },
  {
   "cell_type": "markdown",
   "id": "3f491a2f",
   "metadata": {},
   "source": [
    "ii. Eigen values of matrix"
   ]
  },
  {
   "cell_type": "code",
   "execution_count": 10,
   "id": "8afe921a",
   "metadata": {},
   "outputs": [
    {
     "name": "stdout",
     "output_type": "stream",
     "text": [
      "[98.16835147 28.097044   49.73460452]\n"
     ]
    }
   ],
   "source": [
    "print(np.linalg.eigvals(n_array))"
   ]
  },
  {
   "cell_type": "markdown",
   "id": "81c62c6c",
   "metadata": {},
   "source": [
    "iii. Eigen vectors of matrix"
   ]
  },
  {
   "cell_type": "code",
   "execution_count": 11,
   "id": "951d7c79",
   "metadata": {},
   "outputs": [
    {
     "name": "stdout",
     "output_type": "stream",
     "text": [
      "[[ 0.4574917   0.34637121 -0.15017693]\n",
      " [ 0.28447814 -0.72784061 -0.4852124 ]\n",
      " [ 0.84248058  0.59184038  0.8614034 ]]\n"
     ]
    }
   ],
   "source": [
    "eigvals, eigvecs = np.linalg.eig(n_array)\n",
    "print(eigvecs)"
   ]
  },
  {
   "cell_type": "markdown",
   "id": "38cf0868",
   "metadata": {},
   "source": [
    "iv. Inverse of matrix"
   ]
  },
  {
   "cell_type": "code",
   "execution_count": 12,
   "id": "346dc15b",
   "metadata": {},
   "outputs": [
    {
     "name": "stdout",
     "output_type": "stream",
     "text": [
      "[[ 0.02404141 -0.00911212 -0.00444671]\n",
      " [-0.01667882  0.02966905  0.0024785 ]\n",
      " [ 0.00631287 -0.01603732  0.01217379]]\n"
     ]
    }
   ],
   "source": [
    "print(np.linalg.inv(n_array))"
   ]
  },
  {
   "cell_type": "markdown",
   "id": "2c47ff33",
   "metadata": {},
   "source": [
    "v. Determinant of matrix"
   ]
  },
  {
   "cell_type": "code",
   "execution_count": 13,
   "id": "e45901ab",
   "metadata": {},
   "outputs": [
    {
     "name": "stdout",
     "output_type": "stream",
     "text": [
      "137180.0000000001\n"
     ]
    }
   ],
   "source": [
    "print(np.linalg.det(n_array))"
   ]
  },
  {
   "cell_type": "markdown",
   "id": "6774e794",
   "metadata": {},
   "source": [
    "(g) Multiply the following matrices and also find covariance between matrices using NumPy:"
   ]
  },
  {
   "cell_type": "markdown",
   "id": "d4a3824f",
   "metadata": {},
   "source": [
    "i. p = [[1, 2], [2, 3]]\n",
    "q = [[4, 5], [6, 7]]"
   ]
  },
  {
   "cell_type": "code",
   "execution_count": 7,
   "id": "167dd7fe",
   "metadata": {},
   "outputs": [
    {
     "name": "stdout",
     "output_type": "stream",
     "text": [
      "[[16 19]\n",
      " [26 31]]\n",
      "[[0.66666667 1.        ]\n",
      " [1.         1.66666667]]\n"
     ]
    }
   ],
   "source": [
    "p1 = np.array([[1, 2], [2, 3]])\n",
    "q1 = np.array([[4, 5], [6, 7]])\n",
    "print(np.dot(p1, q1))\n",
    "if p1.shape == q1.shape:\n",
    "    print(np.cov(p1.flatten(), q1.flatten()))\n",
    "else:\n",
    "    print(\"Shape mismatch\")"
   ]
  },
  {
   "cell_type": "markdown",
   "id": "cc1b0c4f",
   "metadata": {},
   "source": [
    "ii. p = [[1, 2], [2, 3], [4, 5]]\n",
    "q = [[4, 5, 1], [6, 7, 2]]"
   ]
  },
  {
   "cell_type": "code",
   "execution_count": 8,
   "id": "643c9b96",
   "metadata": {},
   "outputs": [
    {
     "name": "stdout",
     "output_type": "stream",
     "text": [
      "[[16 19  5]\n",
      " [26 31  8]\n",
      " [46 55 14]]\n",
      "Shape mismatch\n"
     ]
    }
   ],
   "source": [
    "p2 = np.array([[1, 2], [2, 3], [4, 5]])\n",
    "q2 = np.array([[4, 5, 1], [6, 7, 2]])\n",
    "print(np.dot(p2, q2))\n",
    "if p2.shape == q2.shape:\n",
    "    print(np.cov(p2.flatten(), q2.flatten()))\n",
    "else:\n",
    "    print(\"Shape mismatch\")"
   ]
  },
  {
   "cell_type": "markdown",
   "id": "a0c6f48e",
   "metadata": {},
   "source": [
    "(h) For the matrices: x = np.array([[2, 3, 4], [3, 2, 9]]); y = np.array([[1, 5, 0], [5, 10, 3]]),\n",
    "find inner, outer and cartesian product?"
   ]
  },
  {
   "cell_type": "code",
   "execution_count": null,
   "id": "95ad4c2f",
   "metadata": {},
   "outputs": [
    {
     "name": "stdout",
     "output_type": "stream",
     "text": [
      "[[17 52]\n",
      " [13 62]]\n",
      "[[ 2 10  0 10 20  6]\n",
      " [ 3 15  0 15 30  9]\n",
      " [ 4 20  0 20 40 12]\n",
      " [ 3 15  0 15 30  9]\n",
      " [ 2 10  0 10 20  6]\n",
      " [ 9 45  0 45 90 27]]\n",
      "[[ 2  1]\n",
      " [ 2  5]\n",
      " [ 2  0]\n",
      " [ 2  5]\n",
      " [ 2 10]\n",
      " [ 2  3]\n",
      " [ 3  1]\n",
      " [ 3  5]\n",
      " [ 3  0]\n",
      " [ 3  5]\n",
      " [ 3 10]\n",
      " [ 3  3]\n",
      " [ 4  1]\n",
      " [ 4  5]\n",
      " [ 4  0]\n",
      " [ 4  5]\n",
      " [ 4 10]\n",
      " [ 4  3]\n",
      " [ 3  1]\n",
      " [ 3  5]\n",
      " [ 3  0]\n",
      " [ 3  5]\n",
      " [ 3 10]\n",
      " [ 3  3]\n",
      " [ 2  1]\n",
      " [ 2  5]\n",
      " [ 2  0]\n",
      " [ 2  5]\n",
      " [ 2 10]\n",
      " [ 2  3]\n",
      " [ 9  1]\n",
      " [ 9  5]\n",
      " [ 9  0]\n",
      " [ 9  5]\n",
      " [ 9 10]\n",
      " [ 9  3]]\n"
     ]
    }
   ],
   "source": [
    "x = np.array([[2, 3, 4], [3, 2, 9]])\n",
    "y = np.array([[1, 5, 0], [5, 10, 3]])\n",
    "\n",
    "print(np.inner(x, y))\n",
    "print(np.outer(x, y))\n",
    "# Need to understand\n",
    "cartesian = np.array(np.meshgrid(x.flatten(), y.flatten())).T.reshape(-1, 2)\n",
    "print(cartesian)\n"
   ]
  },
  {
   "cell_type": "markdown",
   "id": "83ce758c",
   "metadata": {},
   "source": [
    "Q2: Based on NumPy Mathematics and Statistics"
   ]
  },
  {
   "cell_type": "markdown",
   "id": "5ab25093",
   "metadata": {},
   "source": [
    "(a) For the array: array = np.array([[1, -2, 3],[-4, 5, -6]])"
   ]
  },
  {
   "cell_type": "markdown",
   "id": "21905b9a",
   "metadata": {},
   "source": [
    "i. Find element-wise absolute value"
   ]
  },
  {
   "cell_type": "code",
   "execution_count": 18,
   "id": "ae78187c",
   "metadata": {},
   "outputs": [
    {
     "name": "stdout",
     "output_type": "stream",
     "text": [
      "[[1 2 3]\n",
      " [4 5 6]]\n"
     ]
    }
   ],
   "source": [
    "array = np.array([[1, -2, 3], [-4, 5, -6]])\n",
    "print(np.abs(array))"
   ]
  },
  {
   "cell_type": "markdown",
   "id": "8644699b",
   "metadata": {},
   "source": [
    "ii. Find the 25th, 50th, and 75th percentile of flattened array, for each column, for each\n",
    "row."
   ]
  },
  {
   "cell_type": "code",
   "execution_count": 19,
   "id": "0cddbbde",
   "metadata": {},
   "outputs": [
    {
     "name": "stdout",
     "output_type": "stream",
     "text": [
      "25,50,75 of flat: -3.5 -0.5 2.5\n",
      "Percentiles (columns):\n",
      " [[-2.75 -0.25 -3.75]\n",
      " [-1.5   1.5  -1.5 ]\n",
      " [-0.25  3.25  0.75]]\n",
      "Percentiles (rows):\n",
      " [[-0.5 -5. ]\n",
      " [ 1.  -4. ]\n",
      " [ 2.   0.5]]\n"
     ]
    }
   ],
   "source": [
    "flat = array.flatten()\n",
    "p25 = np.percentile(flat, 25)\n",
    "p50 = np.percentile(flat, 50)\n",
    "p75 = np.percentile(flat, 75)\n",
    "\n",
    "p_col = np.percentile(array, [25, 50, 75], axis=0)\n",
    "p_row = np.percentile(array, [25, 50, 75], axis=1)\n",
    "\n",
    "print(\"25,50,75 of flat:\", p25, p50, p75)\n",
    "print(\"Percentiles (columns):\\n\", p_col)\n",
    "print(\"Percentiles (rows):\\n\", p_row)"
   ]
  },
  {
   "cell_type": "markdown",
   "id": "feca93dd",
   "metadata": {},
   "source": [
    "iii. Mean, Median and Standard Deviation of flattened array, of each column, and\n",
    "each row"
   ]
  },
  {
   "cell_type": "code",
   "execution_count": 20,
   "id": "38abbf35",
   "metadata": {},
   "outputs": [
    {
     "name": "stdout",
     "output_type": "stream",
     "text": [
      "Mean/Median/Std - flat: -0.5 -0.5 3.8622100754188224\n",
      "Mean/Median/Std - col: [-1.5  1.5 -1.5] [-1.5  1.5 -1.5] [2.5 3.5 4.5]\n",
      "Mean/Median/Std - row: [ 0.66666667 -1.66666667] [ 1. -4.] [2.05480467 4.78423336]\n"
     ]
    }
   ],
   "source": [
    "mean_all = np.mean(flat)\n",
    "median_all = np.median(flat)\n",
    "std_all = np.std(flat)\n",
    "\n",
    "mean_col = np.mean(array, axis=0)\n",
    "median_col = np.median(array, axis=0)\n",
    "std_col = np.std(array, axis=0)\n",
    "\n",
    "mean_row = np.mean(array, axis=1)\n",
    "median_row = np.median(array, axis=1)\n",
    "std_row = np.std(array, axis=1)\n",
    "\n",
    "print(\"Mean/Median/Std - flat:\", mean_all, median_all, std_all)\n",
    "print(\"Mean/Median/Std - col:\", mean_col, median_col, std_col)\n",
    "print(\"Mean/Median/Std - row:\", mean_row, median_row, std_row)"
   ]
  },
  {
   "cell_type": "markdown",
   "id": "18d72561",
   "metadata": {},
   "source": [
    "(b) For the array: a = np.array([-1.8, -1.6, -0.5, 0.5,1.6, 1.8, 3.0]). Find floor, ceiling\n",
    "and truncated value, rounded values"
   ]
  },
  {
   "cell_type": "code",
   "execution_count": 21,
   "id": "9e0261ec",
   "metadata": {},
   "outputs": [
    {
     "name": "stdout",
     "output_type": "stream",
     "text": [
      "[-2. -2. -1.  0.  1.  1.  3.]\n",
      "[-1. -1. -0.  1.  2.  2.  3.]\n",
      "[-1. -1. -0.  0.  1.  1.  3.]\n",
      "[-2. -2. -0.  0.  2.  2.  3.]\n"
     ]
    }
   ],
   "source": [
    "a = np.array([-1.8, -1.6, -0.5, 0.5, 1.6, 1.8, 3.0])\n",
    "print(np.floor(a))\n",
    "print(np.ceil(a))\n",
    "print(np.trunc(a))\n",
    "print(np.round(a))"
   ]
  },
  {
   "cell_type": "markdown",
   "id": "6721946d",
   "metadata": {},
   "source": [
    "Q3: Based on Searching and Sorting"
   ]
  },
  {
   "cell_type": "markdown",
   "id": "da2254f3",
   "metadata": {},
   "source": [
    "(a) For the array: array = np.array([10, 52, 62, 16, 16, 54, 453]), find"
   ]
  },
  {
   "cell_type": "markdown",
   "id": "151c7b90",
   "metadata": {},
   "source": [
    "i. Sorted array\n",
    "ii. Indices of sorted array\n",
    "iii. 4 smallest elements\n",
    "iv. 5 largest elements"
   ]
  },
  {
   "cell_type": "code",
   "execution_count": 22,
   "id": "8de7e0b4",
   "metadata": {},
   "outputs": [
    {
     "name": "stdout",
     "output_type": "stream",
     "text": [
      "[ 10  16  16  52  54  62 453]\n",
      "[0 3 4 1 5 2 6]\n",
      "[16 10 16 52]\n",
      "[ 16  52  62  54 453]\n"
     ]
    }
   ],
   "source": [
    "array = np.array([10, 52, 62, 16, 16, 54, 453])\n",
    "\n",
    "# i\n",
    "print(np.sort(array))\n",
    "# ii\n",
    "print(np.argsort(array))\n",
    "# iii\n",
    "print(np.partition(array, 3)[:4])\n",
    "# iv\n",
    "print(np.partition(array, -5)[-5:])\n"
   ]
  },
  {
   "cell_type": "markdown",
   "id": "fbbc9680",
   "metadata": {},
   "source": [
    "(b) For the array: array = np.array([1.0, 1.2, 2.2, 2.0, 3.0, 2.0]), find"
   ]
  },
  {
   "cell_type": "markdown",
   "id": "b146341a",
   "metadata": {},
   "source": [
    "i. Integer elements only\n",
    "ii. Float elements only"
   ]
  },
  {
   "cell_type": "code",
   "execution_count": 23,
   "id": "a81bcca2",
   "metadata": {},
   "outputs": [
    {
     "name": "stdout",
     "output_type": "stream",
     "text": [
      "[1. 2. 3. 2.]\n",
      "[1.2 2.2]\n"
     ]
    }
   ],
   "source": [
    "array = np.array([1.0, 1.2, 2.2, 2.0, 3.0, 2.0])\n",
    "# i. Integer elements\n",
    "print(array[array == array.astype(int)])\n",
    "# ii. Float elements\n",
    "print(array[array != array.astype(int)])\n"
   ]
  }
 ],
 "metadata": {
  "kernelspec": {
   "display_name": "Python 3",
   "language": "python",
   "name": "python3"
  },
  "language_info": {
   "codemirror_mode": {
    "name": "ipython",
    "version": 3
   },
   "file_extension": ".py",
   "mimetype": "text/x-python",
   "name": "python",
   "nbconvert_exporter": "python",
   "pygments_lexer": "ipython3",
   "version": "3.12.0"
  }
 },
 "nbformat": 4,
 "nbformat_minor": 5
}
