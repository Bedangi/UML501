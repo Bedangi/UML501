{
 "cells": [
  {
   "cell_type": "markdown",
   "id": "b476ba2a",
   "metadata": {},
   "source": [
    "Q1: K-Fold Cross Validation for Multiple Linear Regression (Least Square Error Fit)"
   ]
  },
  {
   "cell_type": "markdown",
   "id": "62475472",
   "metadata": {},
   "source": [
    "a) Divide the dataset into input features (all columns except price) and output variable\n",
    "(price)"
   ]
  },
  {
   "cell_type": "code",
   "execution_count": 57,
   "id": "41756ff8",
   "metadata": {},
   "outputs": [
    {
     "data": {
      "text/html": [
       "<div>\n",
       "<style scoped>\n",
       "    .dataframe tbody tr th:only-of-type {\n",
       "        vertical-align: middle;\n",
       "    }\n",
       "\n",
       "    .dataframe tbody tr th {\n",
       "        vertical-align: top;\n",
       "    }\n",
       "\n",
       "    .dataframe thead th {\n",
       "        text-align: right;\n",
       "    }\n",
       "</style>\n",
       "<table border=\"1\" class=\"dataframe\">\n",
       "  <thead>\n",
       "    <tr style=\"text-align: right;\">\n",
       "      <th></th>\n",
       "      <th>Avg. Area Income</th>\n",
       "      <th>Avg. Area House Age</th>\n",
       "      <th>Avg. Area Number of Rooms</th>\n",
       "      <th>Avg. Area Number of Bedrooms</th>\n",
       "      <th>Area Population</th>\n",
       "    </tr>\n",
       "  </thead>\n",
       "  <tbody>\n",
       "    <tr>\n",
       "      <th>0</th>\n",
       "      <td>79545.45857</td>\n",
       "      <td>5.682861</td>\n",
       "      <td>7.009188</td>\n",
       "      <td>4.09</td>\n",
       "      <td>23086.80050</td>\n",
       "    </tr>\n",
       "    <tr>\n",
       "      <th>1</th>\n",
       "      <td>79248.64245</td>\n",
       "      <td>6.002900</td>\n",
       "      <td>6.730821</td>\n",
       "      <td>3.09</td>\n",
       "      <td>40173.07217</td>\n",
       "    </tr>\n",
       "    <tr>\n",
       "      <th>2</th>\n",
       "      <td>61287.06718</td>\n",
       "      <td>5.865890</td>\n",
       "      <td>8.512727</td>\n",
       "      <td>5.13</td>\n",
       "      <td>36882.15940</td>\n",
       "    </tr>\n",
       "    <tr>\n",
       "      <th>3</th>\n",
       "      <td>63345.24005</td>\n",
       "      <td>7.188236</td>\n",
       "      <td>5.586729</td>\n",
       "      <td>3.26</td>\n",
       "      <td>34310.24283</td>\n",
       "    </tr>\n",
       "    <tr>\n",
       "      <th>4</th>\n",
       "      <td>59982.19723</td>\n",
       "      <td>5.040555</td>\n",
       "      <td>7.839388</td>\n",
       "      <td>4.23</td>\n",
       "      <td>26354.10947</td>\n",
       "    </tr>\n",
       "  </tbody>\n",
       "</table>\n",
       "</div>"
      ],
      "text/plain": [
       "   Avg. Area Income  Avg. Area House Age  Avg. Area Number of Rooms  \\\n",
       "0       79545.45857             5.682861                   7.009188   \n",
       "1       79248.64245             6.002900                   6.730821   \n",
       "2       61287.06718             5.865890                   8.512727   \n",
       "3       63345.24005             7.188236                   5.586729   \n",
       "4       59982.19723             5.040555                   7.839388   \n",
       "\n",
       "   Avg. Area Number of Bedrooms  Area Population  \n",
       "0                          4.09      23086.80050  \n",
       "1                          3.09      40173.07217  \n",
       "2                          5.13      36882.15940  \n",
       "3                          3.26      34310.24283  \n",
       "4                          4.23      26354.10947  "
      ]
     },
     "execution_count": 57,
     "metadata": {},
     "output_type": "execute_result"
    }
   ],
   "source": [
    "import pandas as pd\n",
    "df = pd.read_csv(\"USA_Housing.csv\")\n",
    "x = df.drop(columns=[\"Price\"])\n",
    "columns = x.columns\n",
    "y = df[\"Price\"]\n",
    "x.head()\n"
   ]
  },
  {
   "cell_type": "markdown",
   "id": "670d1dd4",
   "metadata": {},
   "source": [
    "b) Scale the values of input features."
   ]
  },
  {
   "cell_type": "code",
   "execution_count": 58,
   "id": "7e7000fb",
   "metadata": {},
   "outputs": [
    {
     "data": {
      "text/html": [
       "<div>\n",
       "<style scoped>\n",
       "    .dataframe tbody tr th:only-of-type {\n",
       "        vertical-align: middle;\n",
       "    }\n",
       "\n",
       "    .dataframe tbody tr th {\n",
       "        vertical-align: top;\n",
       "    }\n",
       "\n",
       "    .dataframe thead th {\n",
       "        text-align: right;\n",
       "    }\n",
       "</style>\n",
       "<table border=\"1\" class=\"dataframe\">\n",
       "  <thead>\n",
       "    <tr style=\"text-align: right;\">\n",
       "      <th></th>\n",
       "      <th>Avg. Area Income</th>\n",
       "      <th>Avg. Area House Age</th>\n",
       "      <th>Avg. Area Number of Rooms</th>\n",
       "      <th>Avg. Area Number of Bedrooms</th>\n",
       "      <th>Area Population</th>\n",
       "    </tr>\n",
       "  </thead>\n",
       "  <tbody>\n",
       "    <tr>\n",
       "      <th>0</th>\n",
       "      <td>1.028660</td>\n",
       "      <td>-0.296927</td>\n",
       "      <td>0.021274</td>\n",
       "      <td>0.088062</td>\n",
       "      <td>-1.317599</td>\n",
       "    </tr>\n",
       "    <tr>\n",
       "      <th>1</th>\n",
       "      <td>1.000808</td>\n",
       "      <td>0.025902</td>\n",
       "      <td>-0.255506</td>\n",
       "      <td>-0.722301</td>\n",
       "      <td>0.403999</td>\n",
       "    </tr>\n",
       "    <tr>\n",
       "      <th>2</th>\n",
       "      <td>-0.684629</td>\n",
       "      <td>-0.112303</td>\n",
       "      <td>1.516243</td>\n",
       "      <td>0.930840</td>\n",
       "      <td>0.072410</td>\n",
       "    </tr>\n",
       "    <tr>\n",
       "      <th>3</th>\n",
       "      <td>-0.491499</td>\n",
       "      <td>1.221572</td>\n",
       "      <td>-1.393077</td>\n",
       "      <td>-0.584540</td>\n",
       "      <td>-0.186734</td>\n",
       "    </tr>\n",
       "    <tr>\n",
       "      <th>4</th>\n",
       "      <td>-0.807073</td>\n",
       "      <td>-0.944834</td>\n",
       "      <td>0.846742</td>\n",
       "      <td>0.201513</td>\n",
       "      <td>-0.988387</td>\n",
       "    </tr>\n",
       "  </tbody>\n",
       "</table>\n",
       "</div>"
      ],
      "text/plain": [
       "   Avg. Area Income  Avg. Area House Age  Avg. Area Number of Rooms  \\\n",
       "0          1.028660            -0.296927                   0.021274   \n",
       "1          1.000808             0.025902                  -0.255506   \n",
       "2         -0.684629            -0.112303                   1.516243   \n",
       "3         -0.491499             1.221572                  -1.393077   \n",
       "4         -0.807073            -0.944834                   0.846742   \n",
       "\n",
       "   Avg. Area Number of Bedrooms  Area Population  \n",
       "0                      0.088062        -1.317599  \n",
       "1                     -0.722301         0.403999  \n",
       "2                      0.930840         0.072410  \n",
       "3                     -0.584540        -0.186734  \n",
       "4                      0.201513        -0.988387  "
      ]
     },
     "execution_count": 58,
     "metadata": {},
     "output_type": "execute_result"
    }
   ],
   "source": [
    "from sklearn.preprocessing import StandardScaler\n",
    "sc = StandardScaler()\n",
    "x_scaled = sc.fit_transform(x)\n",
    "x = pd.DataFrame(x_scaled, columns=columns)\n",
    "x.head()"
   ]
  },
  {
   "cell_type": "markdown",
   "id": "bcc29a3c",
   "metadata": {},
   "source": [
    "c) Divide input and output features into five folds."
   ]
  },
  {
   "cell_type": "markdown",
   "id": "58ff67de",
   "metadata": {},
   "source": [
    "d) Run five iterations, in each iteration consider one-fold as test set and remaining\n",
    "four sets as training set. Find the beta (β) matrix, predicted values, and R2_score\n",
    "for each iteration using least square error fit."
   ]
  },
  {
   "cell_type": "code",
   "execution_count": 59,
   "id": "060f31f3",
   "metadata": {},
   "outputs": [],
   "source": [
    "from sklearn.model_selection import KFold\n",
    "import numpy as np\n",
    "from sklearn.metrics import r2_score\n",
    "kf = KFold(n_splits=5, shuffle=True, random_state=42)\n",
    "\n",
    "best_r2 = -np.inf\n",
    "best_beta = None\n",
    "r2_scores = []\n",
    "\n",
    "for train_idx, test_idx in kf.split(x):\n",
    "    x_train, x_test = x.iloc[train_idx], x.iloc[test_idx]\n",
    "    y_train, y_test = y.iloc[train_idx], y.iloc[test_idx]\n",
    "    \n",
    "    x_train_new = np.hstack([np.ones((x_train.shape[0],1)), x_train])\n",
    "    x_test_new = np.hstack([np.ones((x_test.shape[0],1)), x_test])\n",
    "    \n",
    "    #β = (XᵀX)^(-1) Xᵀ y\n",
    "    beta = np.linalg.pinv(x_train_new.T @ x_train_new)@x_train_new.T @ y_train\n",
    "    y_pred = x_test_new @ beta\n",
    "    \n",
    "    r2 = r2_score(y_test, y_pred)\n",
    "    r2_scores.append(r2)\n",
    "    if r2>best_r2:\n",
    "        best_r2 = r2\n",
    "        best_beta = beta\n",
    "    \n",
    "    "
   ]
  },
  {
   "cell_type": "markdown",
   "id": "b71c8732",
   "metadata": {},
   "source": [
    "e) Use the best value of (β) matrix (for which R2_score is maximum), to train the\n",
    "regressor for 70% of data and test the performance for remaining 30% data."
   ]
  },
  {
   "cell_type": "code",
   "execution_count": 60,
   "id": "08256ed1",
   "metadata": {},
   "outputs": [
    {
     "data": {
      "text/plain": [
       "0.9146818498916267"
      ]
     },
     "execution_count": 60,
     "metadata": {},
     "output_type": "execute_result"
    }
   ],
   "source": [
    "from sklearn.model_selection import train_test_split\n",
    "X_train, X_test, Y_train, Y_test = train_test_split(x, y, test_size=0.3, random_state=42)\n",
    "\n",
    "X_train_final = np.hstack([np.ones((X_train.shape[0], 1)), X_train])\n",
    "X_test_final = np.hstack([np.ones((X_test.shape[0], 1)), X_test])\n",
    "\n",
    "beta_final = np.linalg.pinv(X_train_final.T @ X_train_final) @ X_train_final.T @ Y_train\n",
    "Y_pred = X_test_final @ beta_final\n",
    "r2_final = r2_score(Y_test, Y_pred)\n",
    "\n",
    "r2_final"
   ]
  },
  {
   "cell_type": "markdown",
   "id": "37b510e0",
   "metadata": {},
   "source": [
    "Q2 Concept of Validation set for Multiple Linear Regression (Gradient Descent\n",
    "Optimization)"
   ]
  },
  {
   "cell_type": "markdown",
   "id": "400664a1",
   "metadata": {},
   "source": [
    "a) Consider the same dataset of Q1, rather than dividing the dataset into five folds, divide the\n",
    "dataset into training set (56%), validation set (14%), and test set (30%)."
   ]
  },
  {
   "cell_type": "code",
   "execution_count": 61,
   "id": "3da1fdc4",
   "metadata": {},
   "outputs": [],
   "source": [
    "x_aug = np.hstack([np.ones((x.shape[0], 1)), x])\n",
    "x_temp, x_test, y_temp, y_test = train_test_split(\n",
    "    x_aug, y, test_size=0.30, random_state=42\n",
    ")\n",
    "x_train, x_val, y_train, y_val = train_test_split(\n",
    "    x_temp, y_temp, test_size=0.20, random_state=42\n",
    ")"
   ]
  },
  {
   "cell_type": "markdown",
   "id": "3a8c0b96",
   "metadata": {},
   "source": [
    "b) Consider four different values of learning rate i.e. {0.001,0.01,0.1,1}. Compute the values of\n",
    "regression coefficients for each value of learning rate after 1000 iterations."
   ]
  },
  {
   "cell_type": "markdown",
   "id": "83267fa1",
   "metadata": {},
   "source": [
    "c) For each set of regression coefficients, compute R2_score for validation and test set and find\n",
    "the best value of regression coefficients."
   ]
  },
  {
   "cell_type": "code",
   "execution_count": 62,
   "id": "0a3f2546",
   "metadata": {},
   "outputs": [
    {
     "name": "stderr",
     "output_type": "stream",
     "text": [
      "c:\\Users\\Souvig\\AppData\\Local\\Programs\\Python\\Python312\\Lib\\site-packages\\sklearn\\metrics\\_regression.py:1292: RuntimeWarning: overflow encountered in square\n",
      "  numerator = xp.sum(weight * (y_true - y_pred) ** 2, axis=0)\n",
      "c:\\Users\\Souvig\\AppData\\Local\\Programs\\Python\\Python312\\Lib\\site-packages\\sklearn\\metrics\\_regression.py:1292: RuntimeWarning: overflow encountered in square\n",
      "  numerator = xp.sum(weight * (y_true - y_pred) ** 2, axis=0)\n"
     ]
    },
    {
     "data": {
      "text/plain": [
       "[{'lr': 0.001,\n",
       "  'beta': array([1065444.29940522,  198687.06076461,  140098.69079504,\n",
       "          103050.27041846,   25950.4759087 ,  125942.09158332]),\n",
       "  'r2_val': 0.6820187423659023,\n",
       "  'r2_test': 0.6490453443347968},\n",
       " {'lr': 0.01,\n",
       "  'beta': array([1232618.31836202,  230067.95333238,  163710.26584918,\n",
       "          121680.22876975,    2833.37135223,  150657.57448494]),\n",
       "  'r2_val': 0.909799626728122,\n",
       "  'r2_test': 0.9147569598865972},\n",
       " {'lr': 0.1,\n",
       "  'beta': array([1232618.32011841,  230067.9889464 ,  163710.33259401,\n",
       "          121681.42752284,    2832.15066521,  150657.52262836]),\n",
       "  'r2_val': 0.9097995626742027,\n",
       "  'r2_test': 0.9147570103083724},\n",
       " {'lr': 1,\n",
       "  'beta': array([-1.27984491e+284, -7.93780641e+283, -1.89878064e+283,\n",
       "         -1.21190221e+285, -1.19690539e+285,  7.62932836e+283]),\n",
       "  'r2_val': -inf,\n",
       "  'r2_test': -inf}]"
      ]
     },
     "execution_count": 62,
     "metadata": {},
     "output_type": "execute_result"
    }
   ],
   "source": [
    "def gradient_descent(X, Y, lr, num_iters):\n",
    "    m, n = X.shape\n",
    "    beta = np.zeros(n)\n",
    "    for i in range(num_iters):\n",
    "        y_pred = X @ beta\n",
    "        grad = (2/m) * (X.T @ (y_pred - Y))\n",
    "        beta -= lr * grad\n",
    "    return beta\n",
    "\n",
    "learning_rates = [0.001, 0.01, 0.1, 1]\n",
    "results = []\n",
    "\n",
    "for lr in learning_rates:\n",
    "    beta_gd = gradient_descent(x_train, y_train, lr, 1000)\n",
    "    y_val_pred = x_val @ beta_gd\n",
    "    r2_val = r2_score(y_val, y_val_pred)\n",
    "    y_test_pred = x_test @ beta_gd\n",
    "    r2_test = r2_score(y_test, y_test_pred)\n",
    "    \n",
    "    results.append({'lr': lr, 'beta': beta_gd, 'r2_val': r2_val, 'r2_test': r2_test})\n",
    "\n",
    "results"
   ]
  },
  {
   "cell_type": "markdown",
   "id": "f374b95c",
   "metadata": {},
   "source": [
    "Q3 Pre-processing and Multiple Linear Regression"
   ]
  },
  {
   "cell_type": "markdown",
   "id": "41353b94",
   "metadata": {},
   "source": [
    "1. Load the dataset with following column names [\"symboling\", \"normalized_losses\",\n",
    "\"make\", \"fuel_type\", \"aspiration\",\"num_doors\", \"body_style\", \"drive_wheels\",\n",
    "\"engine_location\", \"wheel_base\", \"length\", \"width\", \"height\", \"curb_weight\",\n",
    "\"engine_type\", \"num_cylinders\", \"engine_size\", \"fuel_system\", \"bore\", \"stroke\",\n",
    "\"compression_ratio\", \"horsepower\", \"peak_rpm\", \"city_mpg\", \"highway_mpg\", \"price\"]\n",
    "and replace all ? values with NaN"
   ]
  },
  {
   "cell_type": "code",
   "execution_count": 63,
   "id": "a00b47fa",
   "metadata": {},
   "outputs": [
    {
     "data": {
      "text/html": [
       "<div>\n",
       "<style scoped>\n",
       "    .dataframe tbody tr th:only-of-type {\n",
       "        vertical-align: middle;\n",
       "    }\n",
       "\n",
       "    .dataframe tbody tr th {\n",
       "        vertical-align: top;\n",
       "    }\n",
       "\n",
       "    .dataframe thead th {\n",
       "        text-align: right;\n",
       "    }\n",
       "</style>\n",
       "<table border=\"1\" class=\"dataframe\">\n",
       "  <thead>\n",
       "    <tr style=\"text-align: right;\">\n",
       "      <th></th>\n",
       "      <th>symboling</th>\n",
       "      <th>normalized_losses</th>\n",
       "      <th>make</th>\n",
       "      <th>fuel_type</th>\n",
       "      <th>aspiration</th>\n",
       "      <th>num_doors</th>\n",
       "      <th>body_style</th>\n",
       "      <th>drive_wheels</th>\n",
       "      <th>engine_location</th>\n",
       "      <th>wheel_base</th>\n",
       "      <th>...</th>\n",
       "      <th>engine_size</th>\n",
       "      <th>fuel_system</th>\n",
       "      <th>bore</th>\n",
       "      <th>stroke</th>\n",
       "      <th>compression_ratio</th>\n",
       "      <th>horsepower</th>\n",
       "      <th>peak_rpm</th>\n",
       "      <th>city_mpg</th>\n",
       "      <th>highway_mpg</th>\n",
       "      <th>price</th>\n",
       "    </tr>\n",
       "  </thead>\n",
       "  <tbody>\n",
       "    <tr>\n",
       "      <th>0</th>\n",
       "      <td>3</td>\n",
       "      <td>NaN</td>\n",
       "      <td>alfa-romero</td>\n",
       "      <td>gas</td>\n",
       "      <td>std</td>\n",
       "      <td>two</td>\n",
       "      <td>convertible</td>\n",
       "      <td>rwd</td>\n",
       "      <td>front</td>\n",
       "      <td>88.6</td>\n",
       "      <td>...</td>\n",
       "      <td>130</td>\n",
       "      <td>mpfi</td>\n",
       "      <td>3.47</td>\n",
       "      <td>2.68</td>\n",
       "      <td>9.0</td>\n",
       "      <td>111</td>\n",
       "      <td>5000</td>\n",
       "      <td>21</td>\n",
       "      <td>27</td>\n",
       "      <td>13495</td>\n",
       "    </tr>\n",
       "    <tr>\n",
       "      <th>1</th>\n",
       "      <td>3</td>\n",
       "      <td>NaN</td>\n",
       "      <td>alfa-romero</td>\n",
       "      <td>gas</td>\n",
       "      <td>std</td>\n",
       "      <td>two</td>\n",
       "      <td>convertible</td>\n",
       "      <td>rwd</td>\n",
       "      <td>front</td>\n",
       "      <td>88.6</td>\n",
       "      <td>...</td>\n",
       "      <td>130</td>\n",
       "      <td>mpfi</td>\n",
       "      <td>3.47</td>\n",
       "      <td>2.68</td>\n",
       "      <td>9.0</td>\n",
       "      <td>111</td>\n",
       "      <td>5000</td>\n",
       "      <td>21</td>\n",
       "      <td>27</td>\n",
       "      <td>16500</td>\n",
       "    </tr>\n",
       "    <tr>\n",
       "      <th>2</th>\n",
       "      <td>1</td>\n",
       "      <td>NaN</td>\n",
       "      <td>alfa-romero</td>\n",
       "      <td>gas</td>\n",
       "      <td>std</td>\n",
       "      <td>two</td>\n",
       "      <td>hatchback</td>\n",
       "      <td>rwd</td>\n",
       "      <td>front</td>\n",
       "      <td>94.5</td>\n",
       "      <td>...</td>\n",
       "      <td>152</td>\n",
       "      <td>mpfi</td>\n",
       "      <td>2.68</td>\n",
       "      <td>3.47</td>\n",
       "      <td>9.0</td>\n",
       "      <td>154</td>\n",
       "      <td>5000</td>\n",
       "      <td>19</td>\n",
       "      <td>26</td>\n",
       "      <td>16500</td>\n",
       "    </tr>\n",
       "    <tr>\n",
       "      <th>3</th>\n",
       "      <td>2</td>\n",
       "      <td>164</td>\n",
       "      <td>audi</td>\n",
       "      <td>gas</td>\n",
       "      <td>std</td>\n",
       "      <td>four</td>\n",
       "      <td>sedan</td>\n",
       "      <td>fwd</td>\n",
       "      <td>front</td>\n",
       "      <td>99.8</td>\n",
       "      <td>...</td>\n",
       "      <td>109</td>\n",
       "      <td>mpfi</td>\n",
       "      <td>3.19</td>\n",
       "      <td>3.40</td>\n",
       "      <td>10.0</td>\n",
       "      <td>102</td>\n",
       "      <td>5500</td>\n",
       "      <td>24</td>\n",
       "      <td>30</td>\n",
       "      <td>13950</td>\n",
       "    </tr>\n",
       "    <tr>\n",
       "      <th>4</th>\n",
       "      <td>2</td>\n",
       "      <td>164</td>\n",
       "      <td>audi</td>\n",
       "      <td>gas</td>\n",
       "      <td>std</td>\n",
       "      <td>four</td>\n",
       "      <td>sedan</td>\n",
       "      <td>4wd</td>\n",
       "      <td>front</td>\n",
       "      <td>99.4</td>\n",
       "      <td>...</td>\n",
       "      <td>136</td>\n",
       "      <td>mpfi</td>\n",
       "      <td>3.19</td>\n",
       "      <td>3.40</td>\n",
       "      <td>8.0</td>\n",
       "      <td>115</td>\n",
       "      <td>5500</td>\n",
       "      <td>18</td>\n",
       "      <td>22</td>\n",
       "      <td>17450</td>\n",
       "    </tr>\n",
       "  </tbody>\n",
       "</table>\n",
       "<p>5 rows × 26 columns</p>\n",
       "</div>"
      ],
      "text/plain": [
       "   symboling normalized_losses         make fuel_type aspiration num_doors  \\\n",
       "0          3               NaN  alfa-romero       gas        std       two   \n",
       "1          3               NaN  alfa-romero       gas        std       two   \n",
       "2          1               NaN  alfa-romero       gas        std       two   \n",
       "3          2               164         audi       gas        std      four   \n",
       "4          2               164         audi       gas        std      four   \n",
       "\n",
       "    body_style drive_wheels engine_location  wheel_base  ...  engine_size  \\\n",
       "0  convertible          rwd           front        88.6  ...          130   \n",
       "1  convertible          rwd           front        88.6  ...          130   \n",
       "2    hatchback          rwd           front        94.5  ...          152   \n",
       "3        sedan          fwd           front        99.8  ...          109   \n",
       "4        sedan          4wd           front        99.4  ...          136   \n",
       "\n",
       "   fuel_system  bore  stroke compression_ratio horsepower  peak_rpm city_mpg  \\\n",
       "0         mpfi  3.47    2.68               9.0        111      5000       21   \n",
       "1         mpfi  3.47    2.68               9.0        111      5000       21   \n",
       "2         mpfi  2.68    3.47               9.0        154      5000       19   \n",
       "3         mpfi  3.19    3.40              10.0        102      5500       24   \n",
       "4         mpfi  3.19    3.40               8.0        115      5500       18   \n",
       "\n",
       "  highway_mpg  price  \n",
       "0          27  13495  \n",
       "1          27  16500  \n",
       "2          26  16500  \n",
       "3          30  13950  \n",
       "4          22  17450  \n",
       "\n",
       "[5 rows x 26 columns]"
      ]
     },
     "execution_count": 63,
     "metadata": {},
     "output_type": "execute_result"
    }
   ],
   "source": [
    "import pandas as pd\n",
    "import numpy as np\n",
    "\n",
    "columns = [\"symboling\", \"normalized_losses\",\n",
    "\"make\", \"fuel_type\", \"aspiration\",\"num_doors\", \"body_style\", \"drive_wheels\",\n",
    "\"engine_location\", \"wheel_base\", \"length\", \"width\", \"height\", \"curb_weight\",\n",
    "\"engine_type\", \"num_cylinders\", \"engine_size\", \"fuel_system\", \"bore\", \"stroke\",\n",
    "\"compression_ratio\", \"horsepower\", \"peak_rpm\", \"city_mpg\", \"highway_mpg\", \"price\"]\n",
    "\n",
    "df = pd.read_csv(\"CarPrice.csv\", header=None, names=columns)\n",
    "df.replace('?', np.nan, inplace=True)\n",
    "df.head()\n"
   ]
  },
  {
   "cell_type": "markdown",
   "id": "5dd38fa5",
   "metadata": {},
   "source": [
    "2. Replace all NaN values with central tendency imputation. Drop the rows with NaN\n",
    "values in price column"
   ]
  },
  {
   "cell_type": "code",
   "execution_count": 64,
   "id": "e700b3de",
   "metadata": {},
   "outputs": [
    {
     "name": "stderr",
     "output_type": "stream",
     "text": [
      "C:\\Users\\Souvig\\AppData\\Local\\Temp\\ipykernel_3200\\4182095619.py:2: FutureWarning: errors='ignore' is deprecated and will raise in a future version. Use to_numeric without passing `errors` and catch exceptions explicitly instead\n",
      "  df = df.apply(pd.to_numeric, errors='ignore')\n"
     ]
    },
    {
     "data": {
      "text/plain": [
       "symboling            0\n",
       "normalized_losses    0\n",
       "make                 0\n",
       "fuel_type            0\n",
       "aspiration           0\n",
       "num_doors            0\n",
       "body_style           0\n",
       "drive_wheels         0\n",
       "engine_location      0\n",
       "wheel_base           0\n",
       "length               0\n",
       "width                0\n",
       "height               0\n",
       "curb_weight          0\n",
       "engine_type          0\n",
       "num_cylinders        0\n",
       "engine_size          0\n",
       "fuel_system          0\n",
       "bore                 0\n",
       "stroke               0\n",
       "compression_ratio    0\n",
       "horsepower           0\n",
       "peak_rpm             0\n",
       "city_mpg             0\n",
       "highway_mpg          0\n",
       "price                0\n",
       "dtype: int64"
      ]
     },
     "execution_count": 64,
     "metadata": {},
     "output_type": "execute_result"
    }
   ],
   "source": [
    "df.dropna(subset=[\"price\"], inplace=True)\n",
    "df = df.apply(pd.to_numeric, errors='ignore')\n",
    "numeric_cols = df.select_dtypes(include=['number']).columns.tolist()\n",
    "non_numeric_cols = df.select_dtypes(exclude=['number']).columns.tolist()\n",
    "\n",
    "for col in numeric_cols:\n",
    "    df[col] = df[col].fillna(df[col].mean())\n",
    "for col in non_numeric_cols:\n",
    "    df[col] = df[col].fillna(df[col].mode()[0])\n",
    "    \n",
    "df.isnull().sum()\n"
   ]
  },
  {
   "cell_type": "markdown",
   "id": "f8a20cf9",
   "metadata": {},
   "source": [
    "3. There are 10 columns in the dataset with non-numeric values. Convert these values to\n",
    "numeric values using following scheme:"
   ]
  },
  {
   "cell_type": "markdown",
   "id": "4653d510",
   "metadata": {},
   "source": [
    "(i) For “num_doors” and “num_cylinders”: convert words (number names) to figures\n",
    "for e.g., two to 2"
   ]
  },
  {
   "cell_type": "code",
   "execution_count": 65,
   "id": "7ad35b50",
   "metadata": {},
   "outputs": [],
   "source": [
    "word_to_num = {\n",
    "    'zero':0, 'one':1, 'two':2, 'three':3, 'four':4,\n",
    "    'five':5, 'six':6, 'seven':7, 'eight':8, 'nine':9,\n",
    "    'ten':10, 'twelve':12\n",
    "}\n",
    "\n",
    "for col in ['num_doors', 'num_cylinders']:\n",
    "    df[col] = df[col].str.lower().map(word_to_num)"
   ]
  },
  {
   "cell_type": "markdown",
   "id": "246a76f0",
   "metadata": {},
   "source": [
    "(ii) For \"body_style\", \"drive_wheels\": use dummy encoding scheme"
   ]
  },
  {
   "cell_type": "code",
   "execution_count": 66,
   "id": "b5fe1156",
   "metadata": {},
   "outputs": [],
   "source": [
    "df = pd.get_dummies(df, columns=['body_style', 'drive_wheels'], drop_first=True)"
   ]
  },
  {
   "cell_type": "markdown",
   "id": "d4cd2ac9",
   "metadata": {},
   "source": [
    "(iii) For “make”, “aspiration”, “engine_location”,fuel_type: use label encoding\n",
    "scheme"
   ]
  },
  {
   "cell_type": "code",
   "execution_count": 67,
   "id": "6aa9cbd6",
   "metadata": {},
   "outputs": [],
   "source": [
    "from sklearn.preprocessing import LabelEncoder\n",
    "label_cols = ['make', 'aspiration', 'engine_location', 'fuel_type']\n",
    "le = LabelEncoder()\n",
    "for col in label_cols:\n",
    "    df[col] = le.fit_transform(df[col])"
   ]
  },
  {
   "cell_type": "markdown",
   "id": "ad964252",
   "metadata": {},
   "source": [
    "(iv) For fuel_system: replace values containing string pfi to 1 else all values to 0."
   ]
  },
  {
   "cell_type": "code",
   "execution_count": 68,
   "id": "b1cb24bd",
   "metadata": {},
   "outputs": [],
   "source": [
    "df['fuel_system'] = df['fuel_system'].apply(lambda x: 1 if 'pfi' in str(x) else 0)"
   ]
  },
  {
   "cell_type": "markdown",
   "id": "31539fc2",
   "metadata": {},
   "source": [
    "(v) For engine_type: replace values containing string ohc to 1 else all values to 0."
   ]
  },
  {
   "cell_type": "code",
   "execution_count": 69,
   "id": "2056380f",
   "metadata": {},
   "outputs": [],
   "source": [
    "df['engine_type'] = df['engine_type'].apply(lambda x: 1 if 'ohc' in str(x) else 0)"
   ]
  },
  {
   "cell_type": "markdown",
   "id": "6a467017",
   "metadata": {},
   "source": [
    "4. Divide the dataset into input features (all columns except price) and output variable\n",
    "(price). Scale all input features."
   ]
  },
  {
   "cell_type": "code",
   "execution_count": 70,
   "id": "a9ac73ad",
   "metadata": {},
   "outputs": [],
   "source": [
    "x = df.iloc[:, :-1]\n",
    "y = df[\"price\"]\n",
    "cols = x.columns\n",
    "\n",
    "from sklearn.preprocessing import StandardScaler\n",
    "sc = StandardScaler()\n",
    "x = pd.DataFrame(sc.fit_transform(x), columns=cols)"
   ]
  },
  {
   "cell_type": "markdown",
   "id": "89ba0338",
   "metadata": {},
   "source": [
    "5. Train a linear regressor on 70% of data (using inbuilt linear regression function of\n",
    "Python) and test its performance on remaining 30% of data."
   ]
  },
  {
   "cell_type": "code",
   "execution_count": 86,
   "id": "6f605a69",
   "metadata": {},
   "outputs": [
    {
     "data": {
      "text/plain": [
       "1.0"
      ]
     },
     "execution_count": 86,
     "metadata": {},
     "output_type": "execute_result"
    }
   ],
   "source": [
    "from sklearn.model_selection import train_test_split\n",
    "from sklearn.linear_model import LinearRegression\n",
    "from sklearn.metrics import mean_squared_error\n",
    "x_train, x_test, y_train, y_test = train_test_split(x, y, test_size=0.3, random_state=42)\n",
    "\n",
    "lr = LinearRegression()\n",
    "lr.fit(x_train, y_train)\n",
    "y_pred = lr.predict(x_test)\n",
    "lr.score(x_test, y_test)"
   ]
  },
  {
   "cell_type": "markdown",
   "id": "0a6d9d8d",
   "metadata": {},
   "source": [
    "6. Reduce the dimensionality of the feature set using inbuilt PCA decomposition and then\n",
    "again train a linear regressor on 70% of reduced data (using inbuilt linear regression\n",
    "function of Python). Does it lead to any performance improvement on test set?"
   ]
  },
  {
   "cell_type": "code",
   "execution_count": 87,
   "id": "107204d4",
   "metadata": {},
   "outputs": [
    {
     "data": {
      "text/plain": [
       "0.9019740275906319"
      ]
     },
     "execution_count": 87,
     "metadata": {},
     "output_type": "execute_result"
    }
   ],
   "source": [
    "from sklearn.decomposition import PCA\n",
    "pca = PCA(n_components=0.95, random_state=42)\n",
    "x_train_pca = pca.fit_transform(x_train)\n",
    "x_test_pca = pca.transform(x_test)\n",
    "\n",
    "lr_pca = LinearRegression()\n",
    "lr_pca.fit(x_train_pca, y_train)\n",
    "y_pred_pca = lr_pca.predict(x_test_pca)\n",
    "lr_pca.score(x_test_pca, y_test)"
   ]
  }
 ],
 "metadata": {
  "kernelspec": {
   "display_name": "Python 3",
   "language": "python",
   "name": "python3"
  },
  "language_info": {
   "codemirror_mode": {
    "name": "ipython",
    "version": 3
   },
   "file_extension": ".py",
   "mimetype": "text/x-python",
   "name": "python",
   "nbconvert_exporter": "python",
   "pygments_lexer": "ipython3",
   "version": "3.12.0"
  }
 },
 "nbformat": 4,
 "nbformat_minor": 5
}
