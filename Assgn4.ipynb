{
 "cells": [
  {
   "cell_type": "markdown",
   "id": "92e86ecc",
   "metadata": {},
   "source": [
    "Q1. Write a Python program to scrape all available books from the website\n",
    "(https://books.toscrape.com/) Books to Scrape – a live site built for practicing scraping (safe,\n",
    "legal, no anti-bot). For each book, extract the following details:\n",
    "1. Title\n",
    "2. Price\n",
    "3. Availability (In stock / Out of stock)\n",
    "4. Star Rating (One, Two, Three, Four, Five)\n",
    "Store the scraped results into a Pandas DataFrame and export them to a CSV file named\n",
    "books.csv."
   ]
  },
  {
   "cell_type": "code",
   "execution_count": 5,
   "id": "74e657a9",
   "metadata": {},
   "outputs": [],
   "source": [
    "import requests\n",
    "response = requests.get(\"https://books.toscrape.com/\")\n",
    "html = response.text\n",
    "\n",
    "from bs4 import BeautifulSoup\n",
    "soup = BeautifulSoup(html,\"html.parser\")\n",
    "books = soup.find_all(\"article\", class_=\"product_pod\")\n",
    "title = []\n",
    "price = []\n",
    "avail = []\n",
    "star = []\n",
    "for book in books:\n",
    "    title.append(book.h3.a['title'])\n",
    "    p = book.find(\"p\", class_=\"price_color\").text\n",
    "    price.append(p[1:len(p)])\n",
    "    avail.append(book.find(\"p\", class_=\"instock availability\").text.strip())\n",
    "    star.append(book.find(\"p\", class_=\"star-rating\")[\"class\"][1])\n",
    "    \n",
    "base = \"https://books.toscrape.com/catalogue/page-{}.html\"\n",
    "for page in range(2,51):\n",
    "    url = base.format(page)\n",
    "    response = requests.get(url)\n",
    "    html = response.text\n",
    "    \n",
    "    soup = BeautifulSoup(html,\"html.parser\")\n",
    "    books = soup.find_all(\"article\", class_=\"product_pod\")\n",
    "    for book in books:\n",
    "        title.append(book.h3.a['title'])\n",
    "        p = book.find(\"p\", class_=\"price_color\").text\n",
    "        price.append(p[1:len(p)])\n",
    "        avail.append(book.find(\"p\", class_=\"instock availability\").text.strip())\n",
    "        star.append(book.find(\"p\", class_=\"star-rating\")[\"class\"][1])\n",
    "     \n",
    "import pandas as pd   \n",
    "df = pd.DataFrame({\"Title\" : title, \"Price\" : price, \"Availability\": avail, \"Star Rating\": star})\n",
    "df.to_csv(\"books.csv\", index=False)"
   ]
  },
  {
   "cell_type": "markdown",
   "id": "72325e06",
   "metadata": {},
   "source": [
    "Q2. Write a Python program to scrape the IMDB Top 250 Movies list\n",
    "(https://www.imdb.com/chart/top/) . For each movie, extract the following details:\n",
    "1. Rank (1–250)\n",
    "2. Movie Title\n",
    "3. Year of Release\n",
    "4. IMDB Rating\n",
    "Store the results in a Pandas DataFrame and export it to a CSV file named imdb_top250.csv."
   ]
  },
  {
   "cell_type": "code",
   "execution_count": 6,
   "id": "7686d213",
   "metadata": {},
   "outputs": [],
   "source": [
    "from selenium import webdriver\n",
    "from selenium.webdriver.common.by import By\n",
    "import pandas as pd\n",
    "import time\n",
    "driver = webdriver.Chrome()\n",
    "driver.get(\"https://www.imdb.com/chart/top/\")\n",
    "time.sleep(3)\n",
    "rows = driver.find_elements(By.CLASS_NAME, \"cli-children\")\n",
    "\n",
    "ranks = []\n",
    "titles = []\n",
    "years = []\n",
    "ratings = []\n",
    "\n",
    "for row in rows:\n",
    "    ranks.append(row.find_element(By.CLASS_NAME, \"ipc-title__text\").text.split('.')[0].strip())\n",
    "    titles.append(row.find_element(By.CLASS_NAME, \"ipc-title__text\").text.split('.')[1].strip())\n",
    "    years.append(row.find_element(By.CLASS_NAME, \"cli-title-metadata-item\").text)\n",
    "    ratings.append(row.find_element(By.CLASS_NAME, \"ipc-rating-star--rating\").text)\n",
    "    \n",
    "driver.quit()\n",
    "df = pd.DataFrame({\"Rank\" : ranks, \"Title\" : titles, \"Year\": years, \"Rating\": ratings})\n",
    "df.to_csv(\"imdb_top250.csv\", index=False)"
   ]
  },
  {
   "cell_type": "markdown",
   "id": "1732cf8f",
   "metadata": {},
   "source": [
    "Q3. Write a Python program to scrape the weather information for top world cities from the\n",
    "given website (https://www.timeanddate.com/weather/) . For each city, extract the following\n",
    "details:\n",
    "1. City Name\n",
    "2. Temperature\n",
    "3. Weather Condition (e.g., Clear, Cloudy, Rainy, etc.)\n",
    "Store the results in a Pandas DataFrame and export it to a CSV file named weather.csv."
   ]
  },
  {
   "cell_type": "code",
   "execution_count": 8,
   "id": "74ea5bf4",
   "metadata": {},
   "outputs": [],
   "source": [
    "import requests\n",
    "from bs4 import BeautifulSoup\n",
    "import pandas as pd\n",
    "\n",
    "response = requests.get(\"https://www.timeanddate.com/weather/\")\n",
    "\n",
    "html = response.text\n",
    "soup = BeautifulSoup(html, \"html.parser\")\n",
    "table = soup.find(\"table\", class_=\"zebra\")\n",
    "rows = table.find_all(\"tr\")[1:]\n",
    "city = []\n",
    "temp = []\n",
    "weather = []\n",
    "\n",
    "for row in rows:\n",
    "    city_td = row.find(\"a\")\n",
    "    temp_td = row.find(\"td\", class_=\"rbi\")\n",
    "    img_tag = row.find(\"img\")\n",
    "    if city_td:\n",
    "        city.append(city_td.text.strip())\n",
    "    else:\n",
    "        city.append(\"N/A\")\n",
    "    if temp_td:\n",
    "        temp.append(temp_td.text.strip())\n",
    "    else:\n",
    "        temp.append(\"N/A\")\n",
    "    if img_tag and \"title\" in img_tag.attrs:\n",
    "        weather.append(img_tag[\"title\"])\n",
    "    else:\n",
    "        weather.append(\"N/A\")\n",
    "\n",
    "df = pd.DataFrame({\"City\": city, \"Temperature\": temp, \"Weather\": weather})\n",
    "df.to_csv(\"weather.csv\", index=False)\n"
   ]
  }
 ],
 "metadata": {
  "kernelspec": {
   "display_name": "Python 3",
   "language": "python",
   "name": "python3"
  },
  "language_info": {
   "codemirror_mode": {
    "name": "ipython",
    "version": 3
   },
   "file_extension": ".py",
   "mimetype": "text/x-python",
   "name": "python",
   "nbconvert_exporter": "python",
   "pygments_lexer": "ipython3",
   "version": "3.12.0"
  }
 },
 "nbformat": 4,
 "nbformat_minor": 5
}
